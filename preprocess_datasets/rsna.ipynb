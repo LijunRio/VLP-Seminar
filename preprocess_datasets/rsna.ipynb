{
 "cells": [
  {
   "cell_type": "markdown",
   "metadata": {},
   "source": [
    "# Download the RSNA dataset\n",
    "- RSNA Pneumonia Detection Challenge for predicting whether pneumonia exists in a given image.\n",
    "- first download the kaggle, follow commands below:\n",
    "```\n",
    "cd ~/datasets/\n",
    "mkdir RSNA_Pneumonia\n",
    "cd RSNA_Pneumonia\n",
    "kaggle competitions download -c rsna-pneumonia-detection-challenge\n",
    "unzip rsna-pneumonia-detection-challenge.zip\n",
    "\n",
    "```"
   ]
  },
  {
   "cell_type": "code",
   "execution_count": null,
   "metadata": {},
   "outputs": [
    {
     "name": "stdout",
     "output_type": "stream",
     "text": [
      "original-df len: 30227\n",
      "Number of train samples: 18678\n",
      "Number of valid samples: 4003\n",
      "Number of test samples: 4003\n",
      "Train CSV saved to: /u/home/lj0/Code/VLP-Seminars/annotations/train.csv\n",
      "Valid CSV saved to: /u/home/lj0/Code/VLP-Seminars/annotations/val.csv\n",
      "Test CSV saved to: /u/home/lj0/Code/VLP-Seminars/annotations/test.csv\n"
     ]
    }
   ],
   "source": [
    "import pandas as pd\n",
    "import numpy as np\n",
    "from sklearn.model_selection import train_test_split\n",
    "\n",
    "# Define dataset folder and annotations file\n",
    "dataset_folder = '/u/home/lj0/datasets/RSNA_Pneumonia'\n",
    "image_folder = f'{dataset_folder}/stage_2_train_images'\n",
    "annotations = 'stage_2_train_labels.csv'\n",
    "\n",
    "# Load the dataset\n",
    "df = pd.read_csv(f'{dataset_folder}/{annotations}')\n",
    "print('original-df len:', len(df))\n",
    "\n",
    "# Create bounding boxes (x1, y1, x2, y2)\n",
    "def create_bbox(row):\n",
    "    if row[\"Target\"] == 0:\n",
    "        return [0.0, 0.0, 0.0, 0.0]  # Healthy case, bbox is [0, 0, 0, 0]\n",
    "    else:\n",
    "        x1 = row[\"x\"]\n",
    "        y1 = row[\"y\"]\n",
    "        x2 = x1 + row[\"width\"]\n",
    "        y2 = y1 + row[\"height\"]\n",
    "        return [x1, y1, x2, y2]\n",
    "\n",
    "df[\"bbox\"] = df.apply(lambda x: create_bbox(x), axis=1)\n",
    "\n",
    "# Aggregate multiple bounding boxes by patientId\n",
    "df = df[[\"patientId\", \"bbox\"]]\n",
    "df = df.groupby(\"patientId\").agg(list)\n",
    "df = df.reset_index()\n",
    "\n",
    "# # Replace bounding box lists containing only [[0, 0, 0, 0]] with single [0, 0, 0, 0]\n",
    "# df[\"bbox\"] = df[\"bbox\"].apply(lambda x: [0, 0, 0, 0] if x == [[0, 0, 0, 0]] else x)\n",
    "\n",
    "# Create Target column, set to healthy (0) if bbox is [0, 0, 0, 0]\n",
    "df[\"Target\"] = df[\"bbox\"].apply(lambda x: 0 if x == [[0.0, 0.0, 0.0, 0.0]] else 1)\n",
    "\n",
    "# Add file path\n",
    "df[\"path\"] = df[\"patientId\"].apply(lambda x: f\"{image_folder}/{x}.dcm\")\n",
    "\n",
    "# Split the dataset\n",
    "test_fac = 0.15\n",
    "train_df, test_val_df = train_test_split(df, test_size=test_fac * 2, random_state=0)\n",
    "test_df, valid_df = train_test_split(test_val_df, test_size=0.5, random_state=0)\n",
    "\n",
    "print(f\"Number of train samples: {len(train_df)}\")\n",
    "print(f\"Number of valid samples: {len(valid_df)}\")\n",
    "print(f\"Number of test samples: {len(test_df)}\")\n",
    "\n",
    "# Save to CSV files\n",
    "RSNA_TRAIN_CSV = '/u/home/lj0/Code/VLP-Seminars/annotations/rsna/train.csv'\n",
    "RSNA_VALID_CSV = '/u/home/lj0/Code/VLP-Seminars/annotations/rsna/val.csv'\n",
    "RSNA_TEST_CSV = '/u/home/lj0/Code/VLP-Seminars/annotations/rsna/test.csv'\n",
    "\n",
    "# Save columns: path, patientId, Target, bbox\n",
    "train_df.rename(columns={\"Target\": \"label\"}, inplace=True)\n",
    "valid_df.rename(columns={\"Target\": \"label\"}, inplace=True)\n",
    "test_df.rename(columns={\"Target\": \"label\"}, inplace=True)\n",
    "\n",
    "train_df[[\"path\", \"patientId\", \"label\", \"bbox\"]].to_csv(RSNA_TRAIN_CSV, index=False)\n",
    "valid_df[[\"path\", \"patientId\", \"label\", \"bbox\"]].to_csv(RSNA_VALID_CSV, index=False)\n",
    "test_df[[\"path\", \"patientId\", \"label\", \"bbox\"]].to_csv(RSNA_TEST_CSV, index=False)\n",
    "\n",
    "print(f'Train CSV saved to: {RSNA_TRAIN_CSV}')\n",
    "print(f'Valid CSV saved to: {RSNA_VALID_CSV}')\n",
    "print(f'Test CSV saved to: {RSNA_TEST_CSV}')\n"
   ]
  }
 ],
 "metadata": {
  "kernelspec": {
   "display_name": "mgca",
   "language": "python",
   "name": "python3"
  },
  "language_info": {
   "codemirror_mode": {
    "name": "ipython",
    "version": 3
   },
   "file_extension": ".py",
   "mimetype": "text/x-python",
   "name": "python",
   "nbconvert_exporter": "python",
   "pygments_lexer": "ipython3",
   "version": "3.8.0"
  }
 },
 "nbformat": 4,
 "nbformat_minor": 2
}
